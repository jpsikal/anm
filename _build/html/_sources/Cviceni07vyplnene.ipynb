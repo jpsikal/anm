{
 "cells": [
  {
   "cell_type": "markdown",
   "id": "c12e30ea",
   "metadata": {},
   "source": [
    "# Extrémy funkcí"
   ]
  },
  {
   "cell_type": "markdown",
   "id": "d6464ffc",
   "metadata": {},
   "source": [
    "Naimportujeme si knihovny potřebné pro následující příklady:"
   ]
  },
  {
   "cell_type": "code",
   "execution_count": 2,
   "id": "9479552b",
   "metadata": {},
   "outputs": [],
   "source": [
    "import numpy as np\n",
    "import matplotlib.pyplot as plt"
   ]
  },
  {
   "cell_type": "markdown",
   "id": "354dd66e",
   "metadata": {},
   "source": [
    "## Hledání extrémů funkce jedné proměnné\n",
    "- Pro ohraničení (lokálního) minima/maxima musíme znát hodnoty funkce ve třech bodech $a, b, c$\n",
    "- Budeme se zabývat hledáním minima\n",
    "- Nechť\n",
    "$a < b < c \\wedge f(a) > f(b) < f(c),$\n",
    "\n",
    "pak existuje (lokální) minimum funkce $f(x)$ na intervalu $(a,c)$.\n",
    "- Ke zúženı́ intervalu ohraničujı́cı́ho minimum potřebujeme **čtvrtý** bod"
   ]
  },
  {
   "cell_type": "markdown",
   "id": "fcf7aded",
   "metadata": {},
   "source": [
    "### Metoda zlatého řezu\n",
    "- Vzdálenost čtvrtého bodu od krajů je v poměru [zlatého řezu](https://www.mathsisfun.com/numbers/nature-golden-ratio-fibonacci.html): $d=c - \\dfrac{3-\\sqrt{5}}{2}(c-a)$\n",
    "- Chyba určení minima v $(i+1).$-iteraci je $\\epsilon_{i+1}=(1-W)\\epsilon_i$, kde $W = \\dfrac{3-\\sqrt{5}}{2}$. Jedná se tedy o lineární metodu."
   ]
  },
  {
   "cell_type": "markdown",
   "id": "779dbadf",
   "metadata": {},
   "source": [
    "<div class=\"alert alert-block alert-warning\"><b>Cvičení 07.01: </b> Najděte minimum funkce $f(x)=-\\sin(x)$ na intervalu $\\langle 0, \\pi  \\rangle$ metodou zlatého řezu.</div>"
   ]
  },
  {
   "cell_type": "code",
   "execution_count": 24,
   "id": "cf9ee39c",
   "metadata": {
    "scrolled": true
   },
   "outputs": [
    {
     "name": "stdout",
     "output_type": "stream",
     "text": [
      "Minimum je v intervalu < 1.5701884334977818 , 1.5710681849419796 >\n",
      "1.5707963267948966\n",
      "pocet provedenych iteraci:  17\n"
     ]
    }
   ],
   "source": [
    "#\n",
    "# priklad minimalizace funkce jedne promenne metodou zlateho rezu\n",
    "\n",
    "# zadejme si funkci -sin(x)\n",
    "def f(x):\n",
    "    return -np.sin(x)\n",
    "\n",
    "# na zacatku nastavme uvodni body metody a < c , minimum by melo byt nekde\n",
    "# kolem pi/2=1.5708, a bude mezi temito dvema body, bod b budeme dopocitavat\n",
    "a = 0\n",
    "c = np.pi\n",
    "\n",
    "# nastavme presnost, se kterou chceme nalezt minimum\n",
    "presnost = 1e-3\n",
    "\n",
    "# ulozime si zlaty rez\n",
    "zlatyRez = (3-np.sqrt(5))/2 # ~0.38\n",
    "\n",
    "# napocteme prvni nastrel bodu b\n",
    "b = a+zlatyRez*(c-a)\n",
    "\n",
    "# budeme pocitat pocet iteraci (provedeni cyklu) do dosazeni pozadovane presnosti\n",
    "pocetiteraci = 0\n",
    "\n",
    "# hledani probiha v cyklu\n",
    "while True:\n",
    "    if (c-a) < presnost: # skoncime, pokud je minimum urceno dostatecne presne\n",
    "        break\n",
    "    \n",
    "    if (b-a)/(c-a)<0.5:\n",
    "        # nyni mame body a<b<c, pokud bod b je v leve casti intervalu < a,c >,\n",
    "        # ponechame ho tam, a dopocitame bod d\n",
    "        d = a+(1-zlatyRez)*(c-a) # 1-zlatyRez ~ 0.62\n",
    "    else:\n",
    "        # pokud je bod b v prave casti intervalu < a,c > (tzn vznikl v prubehu\n",
    "        # iteraci), preznacime ho na d a dopocteme polohu bodu b\n",
    "        d = b\n",
    "        b = a+zlatyRez*(c-a)\n",
    "    # nyni mame a<b<d<c, zjistime ve kterem intervalu je minimum\n",
    "    if f(a)>=f(b) and f(b)<=f(d): # minimum je v intervalu < a,d >, ten navic obsahuje bod b\n",
    "        c = d # presuneme pravy konec intervalu do bodu d, bod b nechame na svem miste\n",
    "    else: #minimum je v intervalu < b,c >, ten navic obsahuje bod d\n",
    "        tmp = b\n",
    "        b = d # bod d se stane novym bodem b\n",
    "        a = tmp # levy okraj presuneme do puvodniho bodu b\n",
    "    #[a c]\n",
    "    pocetiteraci += 1\n",
    "\n",
    "print('Minimum je v intervalu <',a,',',c,'>')\n",
    "\n",
    "import math\n",
    "print(math.pi/2)     # vime, ze minimum funkce f(x)=-sin(x) by melo byt v bode Pi/2, proto ho pro kontrolu vypiseme\n",
    "print('pocet provedenych iteraci: ', pocetiteraci)"
   ]
  },
  {
   "cell_type": "markdown",
   "id": "5161949c",
   "metadata": {},
   "source": [
    "### Metoda parabolické interpolace\n",
    "- Odhad minima je určen vztahem:\n",
    "$d = b-\\dfrac{1}{2}\\dfrac{(b-a)^{2}[f(b)-f(c)]-(b-c)^{2}\\left[f(b)-f(a)\\right]}{(b-a)\\left[f(b)-f(c)\\right]-(b-c)\\left[f(b)-f(a)\\right]}$\n",
    "- Kvadratická metoda, může být neefektivní daleko od minima, proto je optimální přepínání mezi parabolickou interpolací a metodou zlatého řezu."
   ]
  },
  {
   "cell_type": "markdown",
   "id": "2ccc9574",
   "metadata": {},
   "source": [
    "<div class=\"alert alert-block alert-warning\"><b>Cvičení 07.02: </b> Najděte minimum funkce $f(x)=-\\sin(x)$ na intervalu $\\langle 0, \\pi  \\rangle$ metodou parabolické interpolace. Porovnejte počet provedených iterací v případě parabolické interpolace a metody zlatého řezu pro požadovanou přesnost $\\epsilon=0.001$. Jak se situace změní při zvýšení požadované přesnosti o tři řády?</div>"
   ]
  },
  {
   "cell_type": "code",
   "execution_count": 39,
   "id": "18aa03de",
   "metadata": {},
   "outputs": [
    {
     "name": "stdout",
     "output_type": "stream",
     "text": [
      "Minimum je v intervalu < 1.5707963267948968 , 1.5707963749762517 >\n",
      "pocet provedenych iteraci:  5\n"
     ]
    }
   ],
   "source": [
    "# hledani minima parabolickou interpolaci\n",
    "\n",
    "# zadejme si funkci -sin(x)\n",
    "def f(x):\n",
    "    return -np.sin(x)\n",
    "\n",
    "# na zacatku nastavme uvodni body metody a < b < c , minimum by melo byt nekde\n",
    "# kolem pi/2=1.5708\n",
    "a = 0\n",
    "b = 0.3\n",
    "c = np.pi\n",
    "\n",
    "# nastavme presnost, se kterou chceme nalezt minimum\n",
    "presnost = 1e-3\n",
    "\n",
    "# budeme pocitat pocet iteraci (provedeni cyklu) do dosazeni pozadovane presnosti\n",
    "pocetiteraci = 0\n",
    "\n",
    "# hledani probiha v cyklu\n",
    "while True:\n",
    "    if (c-a) < presnost: # skoncime, pokud je minimum urceno dostatecne presne\n",
    "        break\n",
    "    \n",
    "    # z a,b,c odhadneme polohu d minima paraboly, kterou jsme prolozili body\n",
    "    # a,b,c\n",
    "    d = b-0.5*((b-a)**2*(f(b)-f(c))-(b-c)**2*(f(b)-f(a)))/((b-a)*(f(b)-f(c))-(b-c)*(f(b)-f(a)))\n",
    "    \n",
    "    # zjistime, zda nastala situace a < d < b < c nebo a < b < d < c\n",
    "    if d < b: # nastala situace a < d < b < c\n",
    "        # zjistime, na kterem intervalu je minimum\n",
    "        if f(a) > f(d) and f(d) < f(b): # minimum je na intervalu  < a,b > , ktery obsahuje bod d\n",
    "            c = b # posuneme pravy okraj do bodu b\n",
    "            b = d # treti bod uprostred bude tvoren bodem d\n",
    "        else: # minimum je na intervalu  < d,c > , ktery obsahuje bod b\n",
    "            a = d # posuneme levy okraj do bodu d\n",
    "    else: # nastala situace a < b < d < c\n",
    "        # zjistime, na kterem intervalu je minimum\n",
    "        if f(a) > f(b) and f(b) < f(d): # minimum je na intervalu  < a,d >  obsahujicim bod b\n",
    "            c = d # posuneme pravy okraj do bodu d\n",
    "        else: # minimum je na intervalu  < b,c >  obsahujicim bod d\n",
    "            a = b # posuneme levy okraj do bodu b\n",
    "            b = d # treti bod uprostred bude tvoren bodem d\n",
    "            \n",
    "    pocetiteraci += 1\n",
    "\n",
    "\n",
    "print('Minimum je v intervalu <',a,',',c,'>')\n",
    "print('pocet provedenych iteraci: ', pocetiteraci)\n",
    "\n",
    "# Pocet provedenych iteraci je v pripade pouziti metody parabolicke interpolace nekolikanasobne mensi nez v pripade metody zlateho rezu.\n",
    "# Jedna se o rychlejsi metodu v blizkosti (lokalniho) minima (metoda parabolicke interpolace vs. zlateho rezu = kvadraticka vs. linearni metoda)."
   ]
  },
  {
   "cell_type": "markdown",
   "id": "13551fc8",
   "metadata": {},
   "source": [
    "## Hledání extrémů funkce více proměnných"
   ]
  },
  {
   "cell_type": "markdown",
   "id": "02b2e04c",
   "metadata": {},
   "source": [
    "### Nelder-Mead (simplex) metoda\n",
    "- Využívá (N + 1)-simplex v N-dimenzionálním prostoru\n",
    "- Simplex posunujeme tak, aby ohraničil minimum\n",
    "- Pak se zmenšuje, dokud není minimum známo s dostatečnou přesností\n",
    "- [Animace](https://www.youtube.com/watch?v=KEGSLQ6TlBM)\n",
    "- Ukázka postupu při hledání minima funkce o dvou proměnných:\n",
    " 1. Zajistíme, aby $f(W=\\mathrm{Worst})>f(G=\\mathrm{Good})>f(B=\\mathrm{Best})$\n",
    " 2. **Reflexe** vrcholu $W$ na $R$:\n",
    "   1. $M=\\dfrac{B+G}{2}$\n",
    "   2. $R=M+(M-W)$\n",
    "   3. Pokud $f(R)<f(W)$, přesuneme sem bod $W$\n",
    " 3. **Expanze** vrcholu $R$:\n",
    "   1. $R$ posuneme o $M-W$ do $E$\n",
    "   2. Pokud $f(E)<f(R)$, přesuneme sem bod $W$\n",
    " 4. Pokud nelze splnit kroky 2. a 3., provedeme **kontrakci**:\n",
    "   1. Vytvoříme $C$ uprostřed úsečky $\\lvert WM\\rvert$\n",
    "   2. Pokud $f(C)<f(W)$, přesuneme sem bod $W$\n",
    " 5. Pokud nelze splnit krok 4., provedeme **zmenšení**:\n",
    "   1. Vytvoříme $S$ uprostřed úsečky $\\lvert WB\\rvert$\n",
    "   2. Bod $W$ přesuneme do $S$\n",
    "   3. Bod $G$ přesuneme do $M$\n",
    "        "
   ]
  },
  {
   "cell_type": "markdown",
   "id": "6763e050-340d-4a83-bc4e-5854f1ea264b",
   "metadata": {},
   "source": [
    "### Metoda největšího spádu\n",
    "- Postup pro hledání minima funkce $f(\\vec{x})$:\n",
    "    1. stanovíme počáteční odhad řešení $\\vec{x_0}$\n",
    "    2. spočítáme $\\nabla{f(\\vec{x_0})}$\n",
    "    3. provedeme krok směrem největšího spádu $\\vec{x}=\\vec{x_0}-\\alpha \\nabla{f(\\vec{x_0})}$\n",
    "    4. iterativně opakujeme postup od bodu 2 (předtím přiřadíme $\\vec{x_0}=\\vec{x}$), přičemž můžeme postupně zmenšovat hodnotu koeficientu $\\alpha$. \n"
   ]
  },
  {
   "cell_type": "markdown",
   "id": "d039b7d7",
   "metadata": {},
   "source": [
    "<div class=\"alert alert-block alert-warning\"><b>Cvičení 07.03: </b>Najděte minimum funkcí $f_{1}(\\vec{x})=x^{2}+y^{2}$ a  $f_{2}(\\vec{x})=100(x-y^{2})^{2}+(1-x)^{2}$ metodou nejmenšího spádu. </div>"
   ]
  },
  {
   "cell_type": "markdown",
   "id": "78975def-d516-4271-974d-0c1010543113",
   "metadata": {},
   "source": [
    " $f_2$ je tzv. banánová funkce ([Rosenbrock function](https://en.wikipedia.org/wiki/Rosenbrock_function)), resp. její upravená verze"
   ]
  },
  {
   "cell_type": "code",
   "execution_count": 3,
   "id": "45a4d197",
   "metadata": {},
   "outputs": [
    {
     "name": "stdout",
     "output_type": "stream",
     "text": [
      "minimum: [0.92256845 0.96041816] chyba: 0.0188845408113485 iteraci: 200\n",
      "minimum(SciPy): [0.99999953 0.99999982]\n"
     ]
    },
    {
     "data": {
      "image/png": "[encoded data removed]",
      "text/plain": [
       "<Figure size 640x480 with 2 Axes>"
      ]
     },
     "metadata": {},
     "output_type": "display_data"
    }
   ],
   "source": [
    "# metoda nejvetsiho spadu\n",
    "\n",
    "from scipy import linalg, optimize\n",
    "\n",
    "def f1(X):\n",
    "    x1, x2 = X\n",
    "    return x1**2+x2**2    \n",
    "\n",
    "def f2(X):\n",
    "    x1, x2 = X\n",
    "    return 100*(x1-x2**2)**2+(1-x1)**2    \n",
    "\n",
    "def gradfce(f, X, h):  # vypocet parcialnich derivaci metodou centralni diference\n",
    "    x, y = X\n",
    "    return np.array([(f((x + h, y)) - f((x - h, y))) / (2*h), (f((x, y + h)) - f((x, y - h))) / (2*h)])\n",
    "\n",
    "# nastavime presnost, se kterou chceme nalezt minimum\n",
    "presnost = 1e-4\n",
    "\n",
    "# pocatecni bod\n",
    "x0 = [0, -1.5]\n",
    "\n",
    "\n",
    "# budeme si prubezne ukladat odhad reseni a chybu odhadu\n",
    "epsilon = [] # odhad chyby v jednotlivych krocich\n",
    "reseni = [] # aktualni odhad reseni\n",
    "\n",
    "f = f2 # urceni funkce, jejiz minimum budeme hledat\n",
    "\n",
    "grad = gradfce(f, x0, 0.00001)\n",
    "epsilon.append(np.abs(grad @ grad))\n",
    "reseni.append(x0)\n",
    "\n",
    "#alpha = 0.02      # nastaveni pro f1\n",
    "alpha = 0.002     # nastaveni pro f2\n",
    "maxIteraci = 200\n",
    "\n",
    "# hledani probiha v cyklu\n",
    "while True:\n",
    "    if len(reseni) >= maxIteraci: # skoncime, pokud je minimum urceno dostatecne presne nebo hodne iteraci\n",
    "        break\n",
    "    \n",
    "    alpha *= 0.99  # vylepseni metody - zmensovani kroku\n",
    "    \n",
    "    grad = gradfce(f, x0, 0.00001)\n",
    "    x = x0 - alpha * grad  # krok metody\n",
    "\n",
    "    epsilon.append(np.abs(grad @ grad))\n",
    "    reseni.append(x)\n",
    "    \n",
    "#    print(x, grad)\n",
    "    \n",
    "    if np.abs(grad @ grad) < presnost:\n",
    "        break\n",
    "        \n",
    "    x0 = x\n",
    "\n",
    "minimum = reseni[-1] # odhad konecneho reseni\n",
    "chyba = epsilon[-1] # odhad konecne chyby\n",
    "iteraci = len(reseni)\n",
    "\n",
    "minCG = optimize.minimize(f, x0, method=\"CG\").x\n",
    "\n",
    "print(\"minimum:\", minimum, \"chyba:\", chyba, \"iteraci:\", iteraci)\n",
    "print(\"minimum(SciPy):\", minCG)\n",
    "\n",
    "\n",
    "osa_x = np.linspace(-1, 3, 100)\n",
    "osa_y = np.linspace(-2, 2, 100)\n",
    "#osa_x = np.linspace(0.8, 1.2, 100)    # nastaveni pro zobrazeni, co se deje v okoli minima f2\n",
    "#osa_y = np.linspace(0.8, 1.2, 100)\n",
    "\n",
    "(x,y) = np.meshgrid(osa_x, osa_y)\n",
    "\n",
    "z = np.log(f((x, y)))\n",
    "\n",
    "plt.contourf(x, y, z, levels=20)\n",
    "plt.colorbar();\n",
    "\n",
    "reseni = np.array(reseni)\n",
    "\n",
    "plt.scatter(reseni[:,0], reseni[:,1], c='r', marker='x');\n",
    "#plt.scatter(reseni[10:,0], reseni[10:,1], c='r', marker='x');   # nastaveni pro zobrazeni, co se deje v okoli minima f2\n",
    "\n",
    "# v pripade bananove funkce (f2) je metoda nejmensiho spadu po dosazeni \"udoli\" neefektivni"
   ]
  },
  {
   "cell_type": "markdown",
   "id": "fc085ce3",
   "metadata": {},
   "source": [
    "### Metoda konjugovaných gradientů\n",
    "- Postup pro hledání minima funkce $f(\\vec{x})$ je odlišný oproti metodě největšího spádu. Směr minimalizace sice vychází z $\\nabla f(\\vec{x})$, ale je upraven tak, abychom neztratili minimum v předchozím směru. Minimum ve směru $\\vec{h_k}$ stanoveném pro každý krok $k$ vždy nalezneme dle vzorce. \n",
    "- Detailnější postup:\n",
    " 1. Zadej počáteční odhad $\\vec{x_0}$.\n",
    " 2. Spočti $\\vec{g_0} = - \\nabla f(\\vec{x_0})$ a zvol počáteční směr minimalizace $\\vec{h_0} = \\vec{g_0}$.\n",
    " 3. Minimalizací ve směru $\\vec{h_k}$ se z bodu $\\vec{x_k}$ přesuň do nového odhadu minima $\\vec{x_{k+1}}$. Minimum v daném směru nalezneme jako $\\vec{x_{k+1}} = \\vec{x_k} + \\alpha_k \\vec{h_k}$, kde \n",
    "$\\alpha_k = - \\dfrac{(\\nabla f(\\vec{x_k})) \\cdot \\vec{h_k}}{\\vec{h_k} \\cdot (H \\vec{h_k}^T)}$ a $H$ je Hessova matice (matice druhých parciálních derivací).\n",
    " 4. Spočti gradient $\\vec{g_{k+1}} = - \\nabla f(\\vec{x_{k+1}})$. \n",
    " 5. Vypočítej $\\beta_k = \\dfrac{\\vec{g_{k+1}} \\cdot \\vec{g_{k+1}}} {\\vec{g_{k}} \\cdot \\vec{g_{k}}}$ (Fletcher-Reeves) nebo $\\beta_k = \\dfrac{(\\vec{g_{k+1}}-\\vec{g_k}) \\cdot \\vec{g_{k+1}}} {\\vec{g_{k}} \\cdot \\vec{g_{k}}}$ (Polak-Ribiere).\n",
    " 6. Urči nový směr pro minimalizaci $\\vec{h_{k+1}}=\\vec{g_{k+1}} + \\beta_k \\vec{h_k}$.\n",
    " 7. Opakuj iterativně postup od kroku 3 - minimalizací ve směru $\\vec{h_{k+1}}$ najdi bod $\\vec{x_{k+2}}$, atd.\n",
    " 8. Skonči pokud je minimum nalezeno s dostatečnou přesností.\n"
   ]
  },
  {
   "cell_type": "markdown",
   "id": "0dc4d03e",
   "metadata": {},
   "source": [
    "## Úloha 7.D"
   ]
  },
  {
   "cell_type": "markdown",
   "id": "9dcdaa69",
   "metadata": {},
   "source": [
    "<div class=\"alert alert-block alert-warning\"><b>Úloha 7.D: </b> Najděte minimum funkce $f(\\vec{x})=100(x-y^{2})^{2}+(1-x)^{2}$ metodou konjugovaných gradientů. Metodu konjugovaných gradientů sami implementujte (není povoleno přímé použití této metody jejím voláním příslušnou funkcí z knihoven Pythonu, je však povoleno použití funkcí z knihoven Pythonu pro skalární násobení dvou vektorů, výpočet normy vektoru, apod.) Použijte pro to algoritmus metody výše uvedený, počáteční odhad řešení nastavte na $\\vec{x_0}=(0, -1.5)$. Podívejte se na detail vývoje hledání minima v okolí lokálního minima ($x_{min}=1, y_{min}=\\pm1$) a porovnejte to s již implementovanou metodou největšího spádu (ve cvičení 07.03). \n",
    " </div>"
   ]
  },
  {
   "cell_type": "code",
   "execution_count": null,
   "id": "f9f976ea",
   "metadata": {},
   "outputs": [],
   "source": []
  }
 ],
 "metadata": {
  "kernelspec": {
   "display_name": "Python 3 (ipykernel)",
   "language": "python",
   "name": "python3"
  },
  "language_info": {
   "codemirror_mode": {
    "name": "ipython",
    "version": 3
   },
   "file_extension": ".py",
   "mimetype": "text/x-python",
   "name": "python",
   "nbconvert_exporter": "python",
   "pygments_lexer": "ipython3",
   "version": "3.12.3"
  }
 },
 "nbformat": 4,
 "nbformat_minor": 5
}
